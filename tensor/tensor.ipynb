{
 "cells": [
  {
   "cell_type": "code",
   "execution_count": 13,
   "id": "21797f28-efc5-4196-ad51-dbc36e89fa7a",
   "metadata": {},
   "outputs": [
    {
     "data": {
      "text/plain": [
       "(tensor([1, 2, 3]), tensor([[1, 2, 3]]), tensor([[[1, 2, 3]]]))"
      ]
     },
     "execution_count": 13,
     "metadata": {},
     "output_type": "execute_result"
    }
   ],
   "source": [
    "# 创建三个不用维度的tensor\n",
    "import torch\n",
    "\n",
    "one_dim = torch.tensor([1,2,3]) # 一维时为向量\n",
    "two_dim = torch.tensor([[1,2,3]]) # 二维时为矩阵\n",
    "three_dim = torch.tensor([[[1,2,3]]]) # 三维及以上统称为tensor\n",
    "one_dim, two_dim, three_dim"
   ]
  },
  {
   "cell_type": "code",
   "execution_count": 14,
   "id": "c8015c34-c122-4e4b-8aad-fe080765becb",
   "metadata": {},
   "outputs": [
    {
     "data": {
      "text/plain": [
       "(torch.Size([3]), torch.Size([1, 3]), torch.Size([1, 1, 3]))"
      ]
     },
     "execution_count": 14,
     "metadata": {},
     "output_type": "execute_result"
    }
   ],
   "source": [
    "# 查看创建tensor的各种信息\n",
    "one_dim.shape, two_dim.shape, three_dim.shape"
   ]
  },
  {
   "cell_type": "code",
   "execution_count": null,
   "id": "a497b893-ed04-4963-9871-ceb49712b22f",
   "metadata": {},
   "outputs": [],
   "source": []
  }
 ],
 "metadata": {
  "kernelspec": {
   "display_name": "Python 3 (ipykernel)",
   "language": "python",
   "name": "python3"
  },
  "language_info": {
   "codemirror_mode": {
    "name": "ipython",
    "version": 3
   },
   "file_extension": ".py",
   "mimetype": "text/x-python",
   "name": "python",
   "nbconvert_exporter": "python",
   "pygments_lexer": "ipython3",
   "version": "3.10.11"
  }
 },
 "nbformat": 4,
 "nbformat_minor": 5
}
